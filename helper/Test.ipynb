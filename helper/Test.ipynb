{
 "cells": [
  {
   "cell_type": "code",
   "execution_count": 20,
   "id": "e9a7d524-2132-4277-ae9b-494b29b78ba8",
   "metadata": {},
   "outputs": [],
   "source": [
    "def get_billable_miles(actual_miles: int, config: dict) -> int:\n",
    "    \"\"\"\n",
    "    Calculate billable miles using either 'pattern' or 'tiers' mode.\n",
    "    \"\"\"\n",
    "    mode = config[\"mode\"]\n",
    "\n",
    "    if mode == \"tiers\":\n",
    "        for rng, values in config[\"tiers\"].items():\n",
    "            start, end = map(int, rng.split(\"-\"))\n",
    "            if start <= actual_miles <= end:\n",
    "                return values[\"billable_miles\"]\n",
    "        return actual_miles  # fallback if not in any tier\n",
    "\n",
    "    elif mode == \"pattern\":\n",
    "        rules = config[\"pattern\"]\n",
    "\n",
    "        # Free range (0–5 miles no charge)\n",
    "        if actual_miles <= 5:\n",
    "            return 0\n",
    "\n",
    "        start = rules[\"start\"]\n",
    "        step = rules[\"first_step\"]\n",
    "        cap = start + step - 1\n",
    "\n",
    "        while cap < rules[\"max_miles\"]:\n",
    "            if actual_miles <= cap:\n",
    "                return cap\n",
    "            step += rules[\"step_growth\"]   # widen the interval\n",
    "            start = cap + 1\n",
    "            cap = start + step - 1\n",
    "\n",
    "        return rules[\"max_miles\"]\n",
    "\n",
    "    else:\n",
    "        raise ValueError(f\"Unknown mileage mode: {mode}\")"
   ]
  },
  {
   "cell_type": "code",
   "execution_count": 21,
   "id": "53d6ec68-9511-48f3-9d59-002268f12cdc",
   "metadata": {},
   "outputs": [],
   "source": [
    "rules = {\n",
    "  \"mode\": \"pattern\",\n",
    "  \"pattern\": {\n",
    "    \"start\": 6,\n",
    "    \"first_step\": 2,\n",
    "    \"step_growth\": 1,\n",
    "    \"max_miles\": 1000,\n",
    "    \"free_range\": {\n",
    "      \"min\": 0,\n",
    "      \"max\": 5,\n",
    "      \"billable_miles\": 0\n",
    "    }\n",
    "  }\n",
    "}"
   ]
  },
  {
   "cell_type": "code",
   "execution_count": 28,
   "id": "35255d03-553a-4dc8-9fe0-88700cd4d3f0",
   "metadata": {},
   "outputs": [
    {
     "data": {
      "text/plain": [
       "19"
      ]
     },
     "execution_count": 28,
     "metadata": {},
     "output_type": "execute_result"
    }
   ],
   "source": [
    "get_billable_miles(16,rules)"
   ]
  },
  {
   "cell_type": "code",
   "execution_count": 31,
   "id": "2f6379d7-b8fd-453c-8be3-29e51c18cd82",
   "metadata": {},
   "outputs": [],
   "source": [
    "dynamic_modifiers = {\n",
    "  \"vehicle_location\": {\n",
    "    \"Interstate\": {\n",
    "      \"label\": \"Interstate\",\n",
    "      \"lanes\": {\n",
    "        \"Left Shoulder\": { \"label\": \"Left Shoulder\", \"upcharge\": 0.15 },\n",
    "        \"Right Shoulder\": { \"label\": \"Right Shoulder\", \"upcharge\": 0.0 },\n",
    "        \"Median\": { \"label\": \"Median\", \"upcharge\": 0.20 }\n",
    "      }\n",
    "    },\n",
    "    \"Highway\": {\n",
    "      \"label\": \"Highway\",\n",
    "      \"lanes\": {\n",
    "        \"Left Shoulder\": { \"label\": \"Left Shoulder\", \"upcharge\": 0.15 },\n",
    "        \"Right Shoulder\": { \"label\": \"Right Shoulder\", \"upcharge\": 0.0 },\n",
    "        \"Median\": { \"label\": \"Median\", \"upcharge\": 0.20 }\n",
    "      }\n",
    "    },\n",
    "    \"Two Lane\": {\n",
    "      \"label\": \"Two Lane\",\n",
    "      \"lanes\": {\n",
    "        \"Side of road\": { \"label\": \"Side of road\", \"upcharge\": 0.0 },\n",
    "        \"Middle of road\": { \"label\": \"Middle of road\", \"upcharge\": 0.20 }\n",
    "      }\n",
    "    }\n",
    "  },\n",
    "\n",
    "  \"weather\": {\n",
    "    \"rain\": { \"label\": \"Rain\", \"upcharge\": 0.10 },\n",
    "    \"thunderstorm_lightening\": { \"label\": \"ThunderStorm/Lightening\", \"upcharge\": 0.15 },\n",
    "    \"tornado_hurricane_hail\": { \"label\": \"Tornado/Hurricane/Hail\", \"upcharge\": 0.25 },\n",
    "    \"clear\": { \"label\": \"Clear\", \"upcharge\": 0.0 },\n",
    "    \"low_visibility\": { \"label\": \"Low Visibility\", \"upcharge\": 0.10 },\n",
    "    \"flood\": { \"label\": \"Flood\", \"upcharge\": 0.20 },\n",
    "    \"ice_snow\": { \"label\": \"Ice/Snow\", \"upcharge\": 0.25 },\n",
    "    \"extreme_heat\": { \"label\": \"Extreme Heat\", \"upcharge\": 0.15 }\n",
    "  },\n",
    "\n",
    "  \"truck_utilization\": {\n",
    "    \"80%\": { \"threshold\": 80, \"upcharge\": 0.05 },\n",
    "    \"85%\": { \"threshold\": 85, \"upcharge\": 0.07 },\n",
    "    \"90%\": { \"threshold\": 90, \"upcharge\": 0.10 },\n",
    "    \"95%\": { \"threshold\": 95, \"upcharge\": 0.15 },\n",
    "    \"100%\": { \"threshold\": 100, \"upcharge\": 0.20 }\n",
    "  },\n",
    "\n",
    "  \"time_of_day\": {\n",
    "    \"07:00-08:00\": { \"start\": \"07:00\", \"end\": \"08:00\", \"upcharge\": 0.10 },\n",
    "    \"08:00-09:00\": { \"start\": \"08:00\", \"end\": \"09:00\", \"upcharge\": 0.15 },\n",
    "    \"09:00-10:00\": { \"start\": \"09:00\", \"end\": \"10:00\", \"upcharge\": 0.12 },\n",
    "    \"15:00-16:00\": { \"start\": \"15:00\", \"end\": \"16:00\", \"upcharge\": 0.10 },\n",
    "    \"16:00-17:00\": { \"start\": \"16:00\", \"end\": \"17:00\", \"upcharge\": 0.15 },\n",
    "    \"17:00-18:00\": { \"start\": \"17:00\", \"end\": \"18:00\", \"upcharge\": 0.0 }\n",
    "  },\n",
    "\n",
    "  \"bucket_mileage_pricing\": {\n",
    "    \"mode\": \"pattern\",\n",
    "    \"pattern\": {\n",
    "      \"start\": 6,\n",
    "      \"first_step\": 2,\n",
    "      \"step_growth\": 1,\n",
    "      \"max_miles\": 1000,\n",
    "      \"free_range\": { \"min\": 0, \"max\": 5, \"billable_miles\": 0 }\n",
    "    }\n",
    "  }\n",
    "}\n"
   ]
  },
  {
   "cell_type": "code",
   "execution_count": 34,
   "id": "e315ff61-a320-4bbb-bf5e-fa14aa17eb63",
   "metadata": {},
   "outputs": [
    {
     "name": "stdout",
     "output_type": "stream",
     "text": [
      "rain {'label': 'Rain', 'upcharge': 0.1}\n",
      "thunderstorm_lightening {'label': 'ThunderStorm/Lightening', 'upcharge': 0.15}\n",
      "tornado_hurricane_hail {'label': 'Tornado/Hurricane/Hail', 'upcharge': 0.25}\n",
      "clear {'label': 'Clear', 'upcharge': 0.0}\n",
      "low_visibility {'label': 'Low Visibility', 'upcharge': 0.1}\n",
      "flood {'label': 'Flood', 'upcharge': 0.2}\n",
      "ice_snow {'label': 'Ice/Snow', 'upcharge': 0.25}\n",
      "extreme_heat {'label': 'Extreme Heat', 'upcharge': 0.15}\n"
     ]
    }
   ],
   "source": [
    "for weather_type, values in dynamic_modifiers[\"weather\"].items():\n",
    "    print(weather_type, values)"
   ]
  }
 ],
 "metadata": {
  "kernelspec": {
   "display_name": "Python 3 (ipykernel)",
   "language": "python",
   "name": "python3"
  },
  "language_info": {
   "codemirror_mode": {
    "name": "ipython",
    "version": 3
   },
   "file_extension": ".py",
   "mimetype": "text/x-python",
   "name": "python",
   "nbconvert_exporter": "python",
   "pygments_lexer": "ipython3",
   "version": "3.10.11"
  }
 },
 "nbformat": 4,
 "nbformat_minor": 5
}
