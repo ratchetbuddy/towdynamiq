{
 "cells": [
  {
   "cell_type": "code",
   "execution_count": 20,
   "id": "e9a7d524-2132-4277-ae9b-494b29b78ba8",
   "metadata": {},
   "outputs": [],
   "source": [
    "def get_billable_miles(actual_miles: int, config: dict) -> int:\n",
    "    \"\"\"\n",
    "    Calculate billable miles using either 'pattern' or 'tiers' mode.\n",
    "    \"\"\"\n",
    "    mode = config[\"mode\"]\n",
    "\n",
    "    if mode == \"tiers\":\n",
    "        for rng, values in config[\"tiers\"].items():\n",
    "            start, end = map(int, rng.split(\"-\"))\n",
    "            if start <= actual_miles <= end:\n",
    "                return values[\"billable_miles\"]\n",
    "        return actual_miles  # fallback if not in any tier\n",
    "\n",
    "    elif mode == \"pattern\":\n",
    "        rules = config[\"pattern\"]\n",
    "\n",
    "        # Free range (0–5 miles no charge)\n",
    "        if actual_miles <= 5:\n",
    "            return 0\n",
    "\n",
    "        start = rules[\"start\"]\n",
    "        step = rules[\"first_step\"]\n",
    "        cap = start + step - 1\n",
    "\n",
    "        while cap < rules[\"max_miles\"]:\n",
    "            if actual_miles <= cap:\n",
    "                return cap\n",
    "            step += rules[\"step_growth\"]   # widen the interval\n",
    "            start = cap + 1\n",
    "            cap = start + step - 1\n",
    "\n",
    "        return rules[\"max_miles\"]\n",
    "\n",
    "    else:\n",
    "        raise ValueError(f\"Unknown mileage mode: {mode}\")"
   ]
  },
  {
   "cell_type": "code",
   "execution_count": 21,
   "id": "53d6ec68-9511-48f3-9d59-002268f12cdc",
   "metadata": {},
   "outputs": [],
   "source": [
    "rules = {\n",
    "  \"mode\": \"pattern\",\n",
    "  \"pattern\": {\n",
    "    \"start\": 6,\n",
    "    \"first_step\": 2,\n",
    "    \"step_growth\": 1,\n",
    "    \"max_miles\": 1000,\n",
    "    \"free_range\": {\n",
    "      \"min\": 0,\n",
    "      \"max\": 5,\n",
    "      \"billable_miles\": 0\n",
    "    }\n",
    "  }\n",
    "}"
   ]
  },
  {
   "cell_type": "code",
   "execution_count": 28,
   "id": "35255d03-553a-4dc8-9fe0-88700cd4d3f0",
   "metadata": {},
   "outputs": [
    {
     "data": {
      "text/plain": [
       "19"
      ]
     },
     "execution_count": 28,
     "metadata": {},
     "output_type": "execute_result"
    }
   ],
   "source": [
    "get_billable_miles(16,rules)"
   ]
  },
  {
   "cell_type": "code",
   "execution_count": 12,
   "id": "2f6379d7-b8fd-453c-8be3-29e51c18cd82",
   "metadata": {},
   "outputs": [],
   "source": [
    "dynamic_modifiers = {\n",
    "  \"vehicle_location\": {\n",
    "    \"Interstate\": {\n",
    "      \"label\": \"Interstate\",\n",
    "      \"lanes\": {\n",
    "        \"Left Shoulder\": { \"label\": \"Left Shoulder\", \"upcharge\": 0.15 },\n",
    "        \"Right Shoulder\": { \"label\": \"Right Shoulder\", \"upcharge\": 0.0 },\n",
    "        \"Median\": { \"label\": \"Median\", \"upcharge\": 0.20 }\n",
    "      }\n",
    "    },\n",
    "    \"Highway\": {\n",
    "      \"label\": \"Highway\",\n",
    "      \"lanes\": {\n",
    "        \"Left Shoulder\": { \"label\": \"Left Shoulder\", \"upcharge\": 0.15 },\n",
    "        \"Right Shoulder\": { \"label\": \"Right Shoulder\", \"upcharge\": 0.0 },\n",
    "        \"Median\": { \"label\": \"Median\", \"upcharge\": 0.20 }\n",
    "      }\n",
    "    },\n",
    "    \"Two Lane\": {\n",
    "      \"label\": \"Two Lane\",\n",
    "      \"lanes\": {\n",
    "        \"Side of road\": { \"label\": \"Side of road\", \"upcharge\": 0.0 },\n",
    "        \"Middle of road\": { \"label\": \"Middle of road\", \"upcharge\": 0.20 }\n",
    "      }\n",
    "    }\n",
    "  },\n",
    "\n",
    "  \"weather\": {\n",
    "    \"rain\": { \"label\": \"Rain\", \"upcharge\": 0.10 },\n",
    "    \"thunderstorm_lightening\": { \"label\": \"ThunderStorm/Lightening\", \"upcharge\": 0.15 },\n",
    "    \"tornado_hurricane_hail\": { \"label\": \"Tornado/Hurricane/Hail\", \"upcharge\": 0.25 },\n",
    "    \"clear\": { \"label\": \"Clear\", \"upcharge\": 0.0 },\n",
    "    \"low_visibility\": { \"label\": \"Low Visibility\", \"upcharge\": 0.10 },\n",
    "    \"flood\": { \"label\": \"Flood\", \"upcharge\": 0.20 },\n",
    "    \"ice_snow\": { \"label\": \"Ice/Snow\", \"upcharge\": 0.25 },\n",
    "    \"extreme_heat\": { \"label\": \"Extreme Heat\", \"upcharge\": 0.15 }\n",
    "  },\n",
    "\n",
    "  \"truck_utilization\": {\n",
    "    \"80%\": { \"threshold\": 80, \"upcharge\": 0.05 },\n",
    "    \"85%\": { \"threshold\": 85, \"upcharge\": 0.07 },\n",
    "    \"90%\": { \"threshold\": 90, \"upcharge\": 0.10 },\n",
    "    \"95%\": { \"threshold\": 95, \"upcharge\": 0.15 },\n",
    "    \"100%\": { \"threshold\": 100, \"upcharge\": 0.20 }\n",
    "  },\n",
    "\n",
    "  \"time_of_day\": {\n",
    "    \"07:00-08:00\": { \"start\": \"07:00\", \"end\": \"08:00\", \"upcharge\": 0.10 },\n",
    "    \"08:00-09:00\": { \"start\": \"08:00\", \"end\": \"09:00\", \"upcharge\": 0.15 },\n",
    "    \"09:00-10:00\": { \"start\": \"09:00\", \"end\": \"10:00\", \"upcharge\": 0.12 },\n",
    "    \"15:00-16:00\": { \"start\": \"15:00\", \"end\": \"16:00\", \"upcharge\": 0.10 },\n",
    "    \"16:00-17:00\": { \"start\": \"16:00\", \"end\": \"17:00\", \"upcharge\": 0.15 },\n",
    "    \"17:00-18:00\": { \"start\": \"17:00\", \"end\": \"18:00\", \"upcharge\": 0.0 }\n",
    "  },\n",
    "\n",
    "  \"bucket_mileage_pricing\": {\n",
    "    \"mode\": \"pattern\",\n",
    "    \"pattern\": {\n",
    "      \"start\": 6,\n",
    "      \"first_step\": 2,\n",
    "      \"step_growth\": 1,\n",
    "      \"max_miles\": 1000,\n",
    "      \"free_range\": { \"min\": 0, \"max\": 5, \"billable_miles\": 0 }\n",
    "    }\n",
    "  }\n",
    "}\n"
   ]
  },
  {
   "cell_type": "code",
   "execution_count": 11,
   "id": "e315ff61-a320-4bbb-bf5e-fa14aa17eb63",
   "metadata": {},
   "outputs": [],
   "source": [
    "def get_billable_miles(actual_miles: int, dynamic_modifiers: dict) -> int:\n",
    "    \"\"\"\n",
    "    Calculate billable miles using either 'pattern' or 'tiers' mode.\n",
    "    \"\"\"\n",
    "    mode = dynamic_modifiers[\"bucket_mileage_pricing\"][\"mode\"]\n",
    "\n",
    "    if mode == \"tiers\":\n",
    "        for rng, values in config[\"tiers\"].items():\n",
    "            start, end = map(int, rng.split(\"-\"))\n",
    "            if start <= actual_miles <= end:\n",
    "                return values[\"billable_miles\"]\n",
    "        return actual_miles  # fallback if not in any tier\n",
    "\n",
    "    elif mode == \"pattern\":\n",
    "        rules = dynamic_modifiers[\"bucket_mileage_pricing\"][\"pattern\"]\n",
    "        # Free range (0–5 miles no charge)\n",
    "        if actual_miles <= 5:\n",
    "            return 0\n",
    "\n",
    "        start = rules[\"start\"]\n",
    "        step = rules[\"first_step\"]\n",
    "        cap = start + step - 1\n",
    "\n",
    "        while cap < rules[\"max_miles\"]:\n",
    "            if actual_miles <= cap:\n",
    "                return cap\n",
    "            step += rules[\"step_growth\"]   # widen the interval\n",
    "            start = cap + 1\n",
    "            cap = start + step - 1\n",
    "\n",
    "        return rules[\"max_miles\"]\n",
    "\n",
    "    else:\n",
    "        raise ValueError(f\"Unknown mileage mode: {mode}\")"
   ]
  },
  {
   "cell_type": "code",
   "execution_count": 19,
   "id": "b60d0a48-a6e6-40e3-a491-5edd7dd8b3f1",
   "metadata": {},
   "outputs": [
    {
     "data": {
      "text/plain": [
       "82"
      ]
     },
     "execution_count": 19,
     "metadata": {},
     "output_type": "execute_result"
    }
   ],
   "source": [
    "get_billable_miles(71,dynamic_modifiers)"
   ]
  },
  {
   "cell_type": "code",
   "execution_count": 1,
   "id": "e679ee86-544e-49ca-b592-a90cc6f462d3",
   "metadata": {},
   "outputs": [
    {
     "ename": "ModuleNotFoundError",
     "evalue": "No module named 'pandas'",
     "output_type": "error",
     "traceback": [
      "\u001b[31m---------------------------------------------------------------------------\u001b[39m",
      "\u001b[31mModuleNotFoundError\u001b[39m                       Traceback (most recent call last)",
      "\u001b[36mCell\u001b[39m\u001b[36m \u001b[39m\u001b[32mIn[1]\u001b[39m\u001b[32m, line 2\u001b[39m\n\u001b[32m      1\u001b[39m \u001b[38;5;28;01mimport\u001b[39;00m\u001b[38;5;250m \u001b[39m\u001b[34;01mos\u001b[39;00m\n\u001b[32m----> \u001b[39m\u001b[32m2\u001b[39m \u001b[38;5;28;01mimport\u001b[39;00m\u001b[38;5;250m \u001b[39m\u001b[34;01mpandas\u001b[39;00m\u001b[38;5;250m \u001b[39m\u001b[38;5;28;01mas\u001b[39;00m\u001b[38;5;250m \u001b[39m\u001b[34;01mpd\u001b[39;00m\n\u001b[32m      3\u001b[39m \u001b[38;5;28;01mimport\u001b[39;00m\u001b[38;5;250m \u001b[39m\u001b[34;01mjson\u001b[39;00m\n\u001b[32m      5\u001b[39m \u001b[38;5;66;03m# go up one level from current working dir (same pattern as your pricing script)\u001b[39;00m\n",
      "\u001b[31mModuleNotFoundError\u001b[39m: No module named 'pandas'"
     ]
    }
   ],
   "source": [
    "import os\n",
    "import pandas as pd\n",
    "import json\n",
    "\n",
    "# go up one level from current working dir (same pattern as your pricing script)\n",
    "BASE_DIR = os.path.dirname(os.path.dirname(os.path.abspath(__file__)))\n",
    "DATA_DIR = os.path.join(BASE_DIR, \"data\")\n",
    "\n",
    "CSV_FILE = os.path.join(DATA_DIR, \"cars.csv\")\n",
    "JSON_FILE = os.path.join(DATA_DIR, \"cars.json\")\n",
    "\n",
    "print(\"Looking for CSV at:\", CSV_FILE)\n",
    "\n",
    "df = pd.read_csv(CSV_FILE, sep=\"\\t|,\", engine=\"python\")  # supports tab or comma CSVs\n",
    "\n",
    "cars = {}\n",
    "\n",
    "for _, row in df.iterrows():\n",
    "    make = str(row[\"make\"]).strip()\n",
    "    model = str(row[\"model\"]).strip()\n",
    "    car_type = str(row[\"car_type\"]).strip()\n",
    "    upcharge = float(row[\"upcharge_percentage\"])\n",
    "\n",
    "    # Initialize make if not present\n",
    "    if make not in cars:\n",
    "        cars[make] = {\n",
    "            \"label\": make,\n",
    "            \"models\": {}\n",
    "        }\n",
    "\n",
    "    # Add model under make\n",
    "    cars[make][\"models\"][model] = {\n",
    "        \"label\": model,\n",
    "        \"car_type\": car_type,\n",
    "        \"upcharge_percentage\": upcharge\n",
    "    }\n",
    "\n",
    "# Save JSON\n",
    "os.makedirs(DATA_DIR, exist_ok=True)\n",
    "with open(JSON_FILE, \"w\") as f:\n",
    "    json.dump(cars, f, indent=2)\n",
    "\n",
    "print(f\"✅ cars.json created successfully at {JSON_FILE}\")\n"
   ]
  }
 ],
 "metadata": {
  "kernelspec": {
   "display_name": "Python 3 (ipykernel)",
   "language": "python",
   "name": "python3"
  },
  "language_info": {
   "codemirror_mode": {
    "name": "ipython",
    "version": 3
   },
   "file_extension": ".py",
   "mimetype": "text/x-python",
   "name": "python",
   "nbconvert_exporter": "python",
   "pygments_lexer": "ipython3",
   "version": "3.13.3"
  }
 },
 "nbformat": 4,
 "nbformat_minor": 5
}
