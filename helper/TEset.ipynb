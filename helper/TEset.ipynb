{
 "cells": [
  {
   "cell_type": "code",
   "execution_count": 10,
   "id": "fad26244-08b9-4b48-b226-091189790fc0",
   "metadata": {},
   "outputs": [
    {
     "name": "stdout",
     "output_type": "stream",
     "text": [
      "Looking for CSV at: E:\\towdynamiq\\git\\towdynamiq\\data\\pricing.csv\n",
      "✅ pricing.json created successfully at E:\\towdynamiq\\git\\towdynamiq\\data\\pricing.json\n"
     ]
    }
   ],
   "source": [
    "import os\n",
    "import pandas as pd\n",
    "import json\n",
    "\n",
    "# go up one level from current working dir\n",
    "# BASE_DIR = os.path.dirname(os.path.abspath(__file__))\n",
    "# DATA_DIR = os.path.join(BASE_DIR, \"data\")\n",
    "\n",
    "CSV_FILE = r\"E:\\towdynamiq\\git\\towdynamiq\\data\\pricing.csv\"\n",
    "JSON_FILE = r\"E:\\towdynamiq\\git\\towdynamiq\\data\\pricing.json\"\n",
    "\n",
    "print(\"Looking for CSV at:\", CSV_FILE)\n",
    "\n",
    "df = pd.read_csv(CSV_FILE)\n",
    "\n",
    "pricing = {}\n",
    "\n",
    "for _, row in df.iterrows():\n",
    "    tow_type = str(row[\"tow_type\"]).strip()\n",
    "    service = str(row[\"service\"]).strip()\n",
    "\n",
    "    entry = {\n",
    "        \"label\": str(row[\"label\"]).strip() if not pd.isna(row[\"label\"]) else \"\",\n",
    "        \"rate\": int(row[\"rate\"]) if not pd.isna(row[\"rate\"]) else 0,\n",
    "        \"mileage\": int(row[\"mileage\"]) if not pd.isna(row[\"mileage\"]) else 0,\n",
    "        \"includes\": int(row[\"includes\"]) if not pd.isna(row[\"includes\"]) else 0,\n",
    "    }\n",
    "\n",
    "    if \"comment\" in row and not pd.isna(row[\"comment\"]):\n",
    "        entry[\"comment\"] = str(row[\"comment\"]).strip()\n",
    "\n",
    "    if tow_type not in pricing:\n",
    "        pricing[tow_type] = {}\n",
    "    pricing[tow_type][service] = entry\n",
    "\n",
    "# Save JSON\n",
    "os.makedirs(DATA_DIR, exist_ok=True)\n",
    "with open(JSON_FILE, \"w\") as f:\n",
    "    json.dump(pricing, f, indent=2)\n",
    "\n",
    "print(f\"✅ pricing.json created successfully at {JSON_FILE}\")\n"
   ]
  }
 ],
 "metadata": {
  "kernelspec": {
   "display_name": "Python 3 (ipykernel)",
   "language": "python",
   "name": "python3"
  },
  "language_info": {
   "codemirror_mode": {
    "name": "ipython",
    "version": 3
   },
   "file_extension": ".py",
   "mimetype": "text/x-python",
   "name": "python",
   "nbconvert_exporter": "python",
   "pygments_lexer": "ipython3",
   "version": "3.10.11"
  }
 },
 "nbformat": 4,
 "nbformat_minor": 5
}
